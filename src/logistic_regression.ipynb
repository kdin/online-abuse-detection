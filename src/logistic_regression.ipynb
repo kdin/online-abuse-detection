{
 "cells": [
  {
   "cell_type": "code",
   "execution_count": 18,
   "metadata": {},
   "outputs": [],
   "source": [
    "import pandas as pd\n",
    "import urllib\n",
    "from sklearn.pipeline import Pipeline\n",
    "from sklearn.feature_extraction.text import CountVectorizer\n",
    "from sklearn.feature_extraction.text import TfidfTransformer\n",
    "from sklearn.linear_model import LogisticRegression\n",
    "from sklearn.metrics import roc_auc_score\n",
    "import matplotlib.pyplot as plt\n",
    "from sklearn import metrics\n",
    "from sklearn.model_selection import train_test_split"
   ]
  },
  {
   "cell_type": "code",
   "execution_count": 19,
   "metadata": {},
   "outputs": [
    {
     "name": "stdout",
     "output_type": "stream",
     "text": [
      "Test ROC AUC: 0.954\n",
      "AREA-UNDER-THE-ROC-CURVE 0.954376678732\n"
     ]
    },
    {
     "data": {
      "image/png": "[encoded data removed]",
      "text/plain": [
       "<matplotlib.figure.Figure at 0x130c27320>"
      ]
     },
     "metadata": {},
     "output_type": "display_data"
    }
   ],
   "source": [
    "conversation_personal_attacks = pd.read_csv('../personal_attack/attack_annotated_comments.tsv',sep='\\t',index_col=0)\n",
    "target_labels_personal_attacks = pd.read_csv('../personal_attack/attack_annotations.tsv', sep='\\t')\n",
    "\n",
    "personal_attacks_labels = target_labels_personal_attacks.groupby('rev_id')['attack'].mean() > 0.5\n",
    "conversation_personal_attacks['attack'] = personal_attacks_labels\n",
    "conversation_personal_attacks['comment'] = conversation_personal_attacks['comment'].apply(lambda x: x.replace(\"NEWLINE_TOKEN\", \" \"))\n",
    "conversation_personal_attacks['comment'] = conversation_personal_attacks['comment'].apply(lambda x: x.replace(\"TAB_TOKEN\", \" \"))\n",
    "\n",
    "XTrain, XTest, yTrain, yTest = train_test_split(conversation_personal_attacks['comment'], \n",
    "                                                conversation_personal_attacks['attack'], test_size=0.30, \n",
    "                                                random_state=50)\n",
    "\n",
    "clf = Pipeline([\n",
    "    ('vect', CountVectorizer(max_features = 10000, ngram_range = (1,3))),\n",
    "    ('tfidf', TfidfTransformer(norm = 'l2')),\n",
    "    ('clf', LogisticRegression()),\n",
    "])\n",
    "clf = clf.fit(XTrain, yTrain)\n",
    "auc = roc_auc_score(yTest, clf.predict_proba(XTest)[:, 1])\n",
    "print('Test ROC AUC: %.3f' %auc)\n",
    "\n",
    "ROCX = XTest\n",
    "ROCY = yTest\n",
    "scores = clf.predict_proba(ROCX)\n",
    "plotTitle = \"Personal attacks Test\"\n",
    "\n",
    "fpr, tpr, thresholds = metrics.roc_curve(ROCY, scores[:,1], pos_label=1)\n",
    "print (\"AREA-UNDER-THE-ROC-CURVE\", metrics.roc_auc_score(ROCY, scores[:,1]))\n",
    "plt.plot(fpr,tpr)\n",
    "plt.xlabel('False Positive Rate')\n",
    "plt.ylabel('True Positive Rate')\n",
    "plt.title(\"ROC Plot - \"+plotTitle)\n",
    "plt.show()\n"
   ]
  },
  {
   "cell_type": "code",
   "execution_count": 20,
   "metadata": {},
   "outputs": [
    {
     "name": "stdout",
     "output_type": "stream",
     "text": [
      "Test ROC AUC: 0.965\n",
      "AREA-UNDER-THE-ROC-CURVE 0.964750245542\n"
     ]
    },
    {
     "data": {
      "image/png": "[encoded data removed]",
      "text/plain": [
       "<matplotlib.figure.Figure at 0x11db886d8>"
      ]
     },
     "metadata": {},
     "output_type": "display_data"
    }
   ],
   "source": [
    "conversation_toxicity = pd.read_csv('../toxicity/toxicity_annotated_comments.tsv', sep='\\t', index_col=0)\n",
    "target_labels_toxicity = pd.read_csv('../toxicity/toxicity_annotations.tsv', sep='\\t')\n",
    "\n",
    "toxicity_labels = target_labels_toxicity.groupby('rev_id')['toxicity'].mean() > 0.5\n",
    "conversation_toxicity['toxicity'] = toxicity_labels\n",
    "conversation_toxicity['comment'] = conversation_toxicity['comment'].apply(lambda x: x.replace(\"NEWLINE_TOKEN\", \" \"))\n",
    "conversation_toxicity['comment'] = conversation_toxicity['comment'].apply(lambda x: x.replace(\"TAB_TOKEN\", \" \"))\n",
    "\n",
    "XTrain, XTest, yTrain, yTest = train_test_split(conversation_toxicity['comment'], \n",
    "                                                conversation_toxicity['toxicity'], test_size=0.30, \n",
    "                                                random_state=50)\n",
    "\n",
    "clf = Pipeline([\n",
    "    ('vect', CountVectorizer(max_features = 10000, ngram_range = (1,3))),\n",
    "    ('tfidf', TfidfTransformer(norm = 'l2')),\n",
    "    ('clf', LogisticRegression()),\n",
    "])\n",
    "clf = clf.fit(XTrain, yTrain)\n",
    "auc = roc_auc_score(yTest, clf.predict_proba(XTest)[:, 1])\n",
    "print('Test ROC AUC: %.3f' %auc)\n",
    "\n",
    "ROCX = XTest\n",
    "ROCY = yTest\n",
    "scores = clf.predict_proba(ROCX)\n",
    "plotTitle = \"Toxicity Test\"\n",
    "\n",
    "fpr, tpr, thresholds = metrics.roc_curve(ROCY, scores[:,1], pos_label=1)\n",
    "print (\"AREA-UNDER-THE-ROC-CURVE\", metrics.roc_auc_score(ROCY, scores[:,1]))\n",
    "plt.plot(fpr,tpr)\n",
    "plt.xlabel('False Positive Rate')\n",
    "plt.ylabel('True Positive Rate')\n",
    "plt.title(\"ROC Plot - \"+plotTitle)\n",
    "plt.show()"
   ]
  },
  {
   "cell_type": "code",
   "execution_count": 21,
   "metadata": {},
   "outputs": [
    {
     "ename": "NameError",
     "evalue": "name 'xTest' is not defined",
     "output_type": "error",
     "traceback": [
      "\u001b[0;31m---------------------------------------------------------------------------\u001b[0m",
      "\u001b[0;31mNameError\u001b[0m                                 Traceback (most recent call last)",
      "\u001b[0;32m<ipython-input-21-39391be2f07f>\u001b[0m in \u001b[0;36m<module>\u001b[0;34m()\u001b[0m\n\u001b[1;32m     17\u001b[0m ])\n\u001b[1;32m     18\u001b[0m \u001b[0mclf\u001b[0m \u001b[0;34m=\u001b[0m \u001b[0mclf\u001b[0m\u001b[0;34m.\u001b[0m\u001b[0mfit\u001b[0m\u001b[0;34m(\u001b[0m\u001b[0mXTrain\u001b[0m\u001b[0;34m,\u001b[0m \u001b[0myTrain\u001b[0m\u001b[0;34m)\u001b[0m\u001b[0;34m\u001b[0m\u001b[0m\n\u001b[0;32m---> 19\u001b[0;31m \u001b[0mauc\u001b[0m \u001b[0;34m=\u001b[0m \u001b[0mroc_auc_score\u001b[0m\u001b[0;34m(\u001b[0m\u001b[0myTest\u001b[0m\u001b[0;34m,\u001b[0m \u001b[0mclf\u001b[0m\u001b[0;34m.\u001b[0m\u001b[0mpredict_proba\u001b[0m\u001b[0;34m(\u001b[0m\u001b[0mxTest\u001b[0m\u001b[0;34m)\u001b[0m\u001b[0;34m[\u001b[0m\u001b[0;34m:\u001b[0m\u001b[0;34m,\u001b[0m \u001b[0;36m1\u001b[0m\u001b[0;34m]\u001b[0m\u001b[0;34m)\u001b[0m\u001b[0;34m\u001b[0m\u001b[0m\n\u001b[0m\u001b[1;32m     20\u001b[0m \u001b[0mprint\u001b[0m\u001b[0;34m(\u001b[0m\u001b[0;34m'Test ROC AUC: %.3f'\u001b[0m \u001b[0;34m%\u001b[0m\u001b[0mauc\u001b[0m\u001b[0;34m)\u001b[0m\u001b[0;34m\u001b[0m\u001b[0m\n\u001b[1;32m     21\u001b[0m \u001b[0;34m\u001b[0m\u001b[0m\n",
      "\u001b[0;31mNameError\u001b[0m: name 'xTest' is not defined"
     ]
    }
   ],
   "source": [
    "conversation_aggression = pd.read_csv('../aggression/aggression_annotated_comments.tsv', sep='\\t', index_col=0)\n",
    "target_labels_aggression = pd.read_csv('../aggression/aggression_annotations.tsv', sep='\\t')\n",
    "\n",
    "aggression_labels = target_labels_aggression.groupby('rev_id')['aggression'].mean() > 0.5\n",
    "conversation_aggression['aggression'] = aggression_labels\n",
    "conversation_aggression['comment'] = conversation_aggression['comment'].apply(lambda x: x.replace(\"NEWLINE_TOKEN\", \" \"))\n",
    "conversation_aggression['comment'] = conversation_aggression['comment'].apply(lambda x: x.replace(\"TAB_TOKEN\", \" \"))\n",
    "\n",
    "XTrain, XTest, yTrain, yTest = train_test_split(conversation_aggression['comment'], \n",
    "                                                conversation_aggression['aggression'], test_size=0.30, \n",
    "                                                random_state=50)\n",
    "\n",
    "clf = Pipeline([\n",
    "    ('vect', CountVectorizer(max_features = 10000, ngram_range = (1,3))),\n",
    "    ('tfidf', TfidfTransformer(norm = 'l2')),\n",
    "    ('clf', LogisticRegression()),\n",
    "])\n",
    "clf = clf.fit(XTrain, yTrain)\n",
    "auc = roc_auc_score(yTest, clf.predict_proba(xTest)[:, 1])\n",
    "print('Test ROC AUC: %.3f' %auc)\n",
    "\n",
    "ROCX = xTest\n",
    "ROCY = yTest\n",
    "scores = clf.predict_proba(ROCX)\n",
    "plotTitle = \"Aggression Test\"\n",
    "\n",
    "fpr, tpr, thresholds = metrics.roc_curve(ROCY, scores[:,1], pos_label=1)\n",
    "print (\"AREA-UNDER-THE-ROC-CURVE\", metrics.roc_auc_score(ROCY, scores[:,1]))\n",
    "plt.plot(fpr,tpr)\n",
    "plt.xlabel('False Positive Rate')\n",
    "plt.ylabel('True Positive Rate')\n",
    "plt.title(\"ROC Plot - \"+plotTitle)\n",
    "plt.show()"
   ]
  },
  {
   "cell_type": "code",
   "execution_count": 16,
   "metadata": {},
   "outputs": [
    {
     "data": {
      "text/plain": [
       "array([ True], dtype=bool)"
      ]
     },
     "execution_count": 16,
     "metadata": {},
     "output_type": "execute_result"
    }
   ],
   "source": [
    "clf.predict(['Asshole'])"
   ]
  },
  {
   "cell_type": "code",
   "execution_count": null,
   "metadata": {},
   "outputs": [],
   "source": []
  }
 ],
 "metadata": {
  "kernelspec": {
   "display_name": "Python 3",
   "language": "python",
   "name": "python3"
  },
  "language_info": {
   "codemirror_mode": {
    "name": "ipython",
    "version": 3
   },
   "file_extension": ".py",
   "mimetype": "text/x-python",
   "name": "python",
   "nbconvert_exporter": "python",
   "pygments_lexer": "ipython3",
   "version": "3.6.3"
  }
 },
 "nbformat": 4,
 "nbformat_minor": 2
}
